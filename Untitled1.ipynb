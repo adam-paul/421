{
 "metadata": {
  "name": "",
  "signature": "sha256:f72d085df37dd7ef3ebe3754c73b1b436406799658d233a4a942dd354cf3cc18"
 },
 "nbformat": 3,
 "nbformat_minor": 0,
 "worksheets": [
  {
   "cells": [
    {
     "cell_type": "code",
     "collapsed": false,
     "input": [
      "%matplotlib inline\n",
      "import numpy as np\n",
      "import matplotlib.pyplot as plt"
     ],
     "language": "python",
     "metadata": {},
     "outputs": [],
     "prompt_number": 1
    },
    {
     "cell_type": "heading",
     "level": 1,
     "metadata": {},
     "source": [
      "Random walk simulation"
     ]
    },
    {
     "cell_type": "markdown",
     "metadata": {},
     "source": [
      "a) Here I define a function in which an arbitrary probability distribution w(x) can be defined. A uniform 2D grid (dimensions a by b) is sampled using the \"rand\" function, and ordered pairs are tested to see if they fall within the specified distribution. This is performed until a specified number (N) of random numbers is attained."
     ]
    },
    {
     "cell_type": "code",
     "collapsed": false,
     "input": [
      "def fun(x, a, b):\n",
      "    w = 2 - 2*x # the probability distribution function is defined here\n",
      "    return w\n",
      "\n",
      "# bounds of distribution\n",
      "a = 0\n",
      "b = 1\n",
      "\n",
      "N = 100000 # number of random numbers you would like to generate\n",
      "nums = []\n",
      "maxarr = np.linspace(a, b, N)\n",
      "wmax = np.max(fun(maxarr, a, b))\n",
      "\n",
      "while len(nums) < N:\n",
      "    x = np.random.uniform(a, b) # generate a random x-value\n",
      "    y = np.random.uniform(a, wmax) # generate a random y-value\n",
      "    if y <= fun(x, a, b): # check to see if the y-value falls within the distribution\n",
      "        nums.append(x) # if it does, count x!\n",
      "    else:\n",
      "        pass\n",
      "\n",
      "numar = np.asarray(nums)"
     ],
     "language": "python",
     "metadata": {},
     "outputs": [],
     "prompt_number": 53
    },
    {
     "cell_type": "markdown",
     "metadata": {},
     "source": [
      "b) The function was specified to be w(x) = 2 - 2x and a large number N=100000 numbers were generated according to this distribution. A histogram is generated, the envelope of which verifies the form of the probability distribution. The mean and standard deviation of this distribution are also given:"
     ]
    },
    {
     "cell_type": "code",
     "collapsed": false,
     "input": [
      "plt.hist(numar, bins=100, normed=True)\n",
      "plt.xlim(0, 1)\n",
      "plt.xlabel('s')\n",
      "plt.ylabel('Normalized occurrence')\n",
      "plt.title('Histogram PDF of w(s)')\n",
      "\n",
      "mu = np.mean(numar)\n",
      "sig = np.std(numar)\n",
      "\n",
      "print 'mu = %f' %mu\n",
      "print 'sigma = %f' %sig"
     ],
     "language": "python",
     "metadata": {},
     "outputs": [
      {
       "output_type": "stream",
       "stream": "stdout",
       "text": [
        "mu = 0.334103\n",
        "sigma = 0.235667\n"
       ]
      },
      {
       "metadata": {},
       "output_type": "display_data",
       "png": "[encoded data removed]",
       "text": [
        "<matplotlib.figure.Figure at 0xa12a400>"
       ]
      }
     ],
     "prompt_number": 37
    },
    {
     "cell_type": "markdown",
     "metadata": {},
     "source": [
      "c) Here, a random walker is subjected to the probability distribution w(s) above, taking 30 steps. An ensemble of 500 random walkers is analyzed and the mean and standard deviation are presented."
     ]
    },
    {
     "cell_type": "code",
     "collapsed": false,
     "input": [
      "def pdf(a, b, N):\n",
      "\n",
      "    nums = []\n",
      "    maxarr = np.linspace(a, b, N)\n",
      "    wmax = np.max(fun(maxarr, a, b))\n",
      "    \n",
      "    while len(nums) < N:\n",
      "        x = np.random.uniform(a, b) # generate a random x-value\n",
      "        y = np.random.uniform(a, wmax) # generate a random y-value\n",
      "        if y <= fun(x, a, b): # check to see if the y-value falls within the distribution\n",
      "            nums.append(x) # if it does, count x!\n",
      "        else:\n",
      "            pass \n",
      "\n",
      "    numar = np.asarray(nums) # convert our numbers into a manipulable data type\n",
      "    return numar\n",
      "    \n",
      "def randwalk(a, b, N):\n",
      "    \n",
      "    steps = pdf(a, b, N)\n",
      "    m = np.sum(steps)\n",
      "    return m\n",
      "\n",
      "marr = np.zeros(500)\n",
      "for i in xrange(500):\n",
      "    m = randwalk(0, 1, 30)\n",
      "    marr[i] = m\n",
      "    \n",
      "mean = np.mean(marr)\n",
      "std = np.std(marr)\n",
      "\n",
      "print 'Mean = %f ' %mean\n",
      "print 'Standard deviation = %f' %std"
     ],
     "language": "python",
     "metadata": {},
     "outputs": [
      {
       "output_type": "stream",
       "stream": "stdout",
       "text": [
        "Mean = 10.017430 \n",
        "Standard deviation = 1.278401\n"
       ]
      }
     ],
     "prompt_number": 52
    },
    {
     "cell_type": "markdown",
     "metadata": {},
     "source": [
      "This mean and standard deviation are indeed in keeping with the values given in Reif, which are equal to\n",
      "$\\mu = N\\bar{s}$ and\n",
      "$\\sigma = \\sqrt{N}\\bar{\\sigma_s}$"
     ]
    }
   ],
   "metadata": {}
  }
 ]
}